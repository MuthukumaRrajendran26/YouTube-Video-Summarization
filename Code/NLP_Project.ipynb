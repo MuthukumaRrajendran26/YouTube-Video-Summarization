{
  "nbformat": 4,
  "nbformat_minor": 0,
  "metadata": {
    "colab": {
      "name": "NLP Project",
      "provenance": [],
      "collapsed_sections": [],
      "machine_shape": "hm"
    },
    "kernelspec": {
      "name": "python3",
      "display_name": "Python 3"
    },
    "accelerator": "GPU",
    "widgets": {
      "application/vnd.jupyter.widget-state+json": {
        "fce4edb2f0e94cce8571e120b99a4e9f": {
          "model_module": "@jupyter-widgets/controls",
          "model_name": "HBoxModel",
          "state": {
            "_view_name": "HBoxView",
            "_dom_classes": [],
            "_model_name": "HBoxModel",
            "_view_module": "@jupyter-widgets/controls",
            "_model_module_version": "1.5.0",
            "_view_count": null,
            "_view_module_version": "1.5.0",
            "box_style": "",
            "layout": "IPY_MODEL_e3ac982f6a9343e08cf2072931d94bb9",
            "_model_module": "@jupyter-widgets/controls",
            "children": [
              "IPY_MODEL_76c8df16cc2640b1b557620c81de592c",
              "IPY_MODEL_7053ec1aaa5246828f0dfa5640a6694d"
            ]
          }
        },
        "e3ac982f6a9343e08cf2072931d94bb9": {
          "model_module": "@jupyter-widgets/base",
          "model_name": "LayoutModel",
          "state": {
            "_view_name": "LayoutView",
            "grid_template_rows": null,
            "right": null,
            "justify_content": null,
            "_view_module": "@jupyter-widgets/base",
            "overflow": null,
            "_model_module_version": "1.2.0",
            "_view_count": null,
            "flex_flow": null,
            "width": null,
            "min_width": null,
            "border": null,
            "align_items": null,
            "bottom": null,
            "_model_module": "@jupyter-widgets/base",
            "top": null,
            "grid_column": null,
            "overflow_y": null,
            "overflow_x": null,
            "grid_auto_flow": null,
            "grid_area": null,
            "grid_template_columns": null,
            "flex": null,
            "_model_name": "LayoutModel",
            "justify_items": null,
            "grid_row": null,
            "max_height": null,
            "align_content": null,
            "visibility": null,
            "align_self": null,
            "height": null,
            "min_height": null,
            "padding": null,
            "grid_auto_rows": null,
            "grid_gap": null,
            "max_width": null,
            "order": null,
            "_view_module_version": "1.2.0",
            "grid_template_areas": null,
            "object_position": null,
            "object_fit": null,
            "grid_auto_columns": null,
            "margin": null,
            "display": null,
            "left": null
          }
        },
        "76c8df16cc2640b1b557620c81de592c": {
          "model_module": "@jupyter-widgets/controls",
          "model_name": "IntProgressModel",
          "state": {
            "_view_name": "ProgressView",
            "style": "IPY_MODEL_a747424c46d44147b3324f9538728389",
            "_dom_classes": [],
            "description": "100%",
            "_model_name": "IntProgressModel",
            "bar_style": "success",
            "max": 2225,
            "_view_module": "@jupyter-widgets/controls",
            "_model_module_version": "1.5.0",
            "value": 2225,
            "_view_count": null,
            "_view_module_version": "1.5.0",
            "orientation": "horizontal",
            "min": 0,
            "description_tooltip": null,
            "_model_module": "@jupyter-widgets/controls",
            "layout": "IPY_MODEL_82d7911ad0ab4f429e1e7f9a64161870"
          }
        },
        "7053ec1aaa5246828f0dfa5640a6694d": {
          "model_module": "@jupyter-widgets/controls",
          "model_name": "HTMLModel",
          "state": {
            "_view_name": "HTMLView",
            "style": "IPY_MODEL_399ab1b8b72041f596b1592f94efcfa4",
            "_dom_classes": [],
            "description": "",
            "_model_name": "HTMLModel",
            "placeholder": "​",
            "_view_module": "@jupyter-widgets/controls",
            "_model_module_version": "1.5.0",
            "value": " 2225/2225 [04:57&lt;00:00,  7.47it/s]",
            "_view_count": null,
            "_view_module_version": "1.5.0",
            "description_tooltip": null,
            "_model_module": "@jupyter-widgets/controls",
            "layout": "IPY_MODEL_b178af847d864d02b42e1f57c0653579"
          }
        },
        "a747424c46d44147b3324f9538728389": {
          "model_module": "@jupyter-widgets/controls",
          "model_name": "ProgressStyleModel",
          "state": {
            "_view_name": "StyleView",
            "_model_name": "ProgressStyleModel",
            "description_width": "initial",
            "_view_module": "@jupyter-widgets/base",
            "_model_module_version": "1.5.0",
            "_view_count": null,
            "_view_module_version": "1.2.0",
            "bar_color": null,
            "_model_module": "@jupyter-widgets/controls"
          }
        },
        "82d7911ad0ab4f429e1e7f9a64161870": {
          "model_module": "@jupyter-widgets/base",
          "model_name": "LayoutModel",
          "state": {
            "_view_name": "LayoutView",
            "grid_template_rows": null,
            "right": null,
            "justify_content": null,
            "_view_module": "@jupyter-widgets/base",
            "overflow": null,
            "_model_module_version": "1.2.0",
            "_view_count": null,
            "flex_flow": null,
            "width": null,
            "min_width": null,
            "border": null,
            "align_items": null,
            "bottom": null,
            "_model_module": "@jupyter-widgets/base",
            "top": null,
            "grid_column": null,
            "overflow_y": null,
            "overflow_x": null,
            "grid_auto_flow": null,
            "grid_area": null,
            "grid_template_columns": null,
            "flex": null,
            "_model_name": "LayoutModel",
            "justify_items": null,
            "grid_row": null,
            "max_height": null,
            "align_content": null,
            "visibility": null,
            "align_self": null,
            "height": null,
            "min_height": null,
            "padding": null,
            "grid_auto_rows": null,
            "grid_gap": null,
            "max_width": null,
            "order": null,
            "_view_module_version": "1.2.0",
            "grid_template_areas": null,
            "object_position": null,
            "object_fit": null,
            "grid_auto_columns": null,
            "margin": null,
            "display": null,
            "left": null
          }
        },
        "399ab1b8b72041f596b1592f94efcfa4": {
          "model_module": "@jupyter-widgets/controls",
          "model_name": "DescriptionStyleModel",
          "state": {
            "_view_name": "StyleView",
            "_model_name": "DescriptionStyleModel",
            "description_width": "",
            "_view_module": "@jupyter-widgets/base",
            "_model_module_version": "1.5.0",
            "_view_count": null,
            "_view_module_version": "1.2.0",
            "_model_module": "@jupyter-widgets/controls"
          }
        },
        "b178af847d864d02b42e1f57c0653579": {
          "model_module": "@jupyter-widgets/base",
          "model_name": "LayoutModel",
          "state": {
            "_view_name": "LayoutView",
            "grid_template_rows": null,
            "right": null,
            "justify_content": null,
            "_view_module": "@jupyter-widgets/base",
            "overflow": null,
            "_model_module_version": "1.2.0",
            "_view_count": null,
            "flex_flow": null,
            "width": null,
            "min_width": null,
            "border": null,
            "align_items": null,
            "bottom": null,
            "_model_module": "@jupyter-widgets/base",
            "top": null,
            "grid_column": null,
            "overflow_y": null,
            "overflow_x": null,
            "grid_auto_flow": null,
            "grid_area": null,
            "grid_template_columns": null,
            "flex": null,
            "_model_name": "LayoutModel",
            "justify_items": null,
            "grid_row": null,
            "max_height": null,
            "align_content": null,
            "visibility": null,
            "align_self": null,
            "height": null,
            "min_height": null,
            "padding": null,
            "grid_auto_rows": null,
            "grid_gap": null,
            "max_width": null,
            "order": null,
            "_view_module_version": "1.2.0",
            "grid_template_areas": null,
            "object_position": null,
            "object_fit": null,
            "grid_auto_columns": null,
            "margin": null,
            "display": null,
            "left": null
          }
        },
        "e059a0aab80545dcaa3b3c19a267eda7": {
          "model_module": "@jupyter-widgets/controls",
          "model_name": "HBoxModel",
          "state": {
            "_view_name": "HBoxView",
            "_dom_classes": [],
            "_model_name": "HBoxModel",
            "_view_module": "@jupyter-widgets/controls",
            "_model_module_version": "1.5.0",
            "_view_count": null,
            "_view_module_version": "1.5.0",
            "box_style": "",
            "layout": "IPY_MODEL_77b0832de09d4bb79c15032299f6cea1",
            "_model_module": "@jupyter-widgets/controls",
            "children": [
              "IPY_MODEL_e277dcc757514891b0287f43b9977f11",
              "IPY_MODEL_9d00af47ab6c4573b4c45decaf6ddba9"
            ]
          }
        },
        "77b0832de09d4bb79c15032299f6cea1": {
          "model_module": "@jupyter-widgets/base",
          "model_name": "LayoutModel",
          "state": {
            "_view_name": "LayoutView",
            "grid_template_rows": null,
            "right": null,
            "justify_content": null,
            "_view_module": "@jupyter-widgets/base",
            "overflow": null,
            "_model_module_version": "1.2.0",
            "_view_count": null,
            "flex_flow": null,
            "width": null,
            "min_width": null,
            "border": null,
            "align_items": null,
            "bottom": null,
            "_model_module": "@jupyter-widgets/base",
            "top": null,
            "grid_column": null,
            "overflow_y": null,
            "overflow_x": null,
            "grid_auto_flow": null,
            "grid_area": null,
            "grid_template_columns": null,
            "flex": null,
            "_model_name": "LayoutModel",
            "justify_items": null,
            "grid_row": null,
            "max_height": null,
            "align_content": null,
            "visibility": null,
            "align_self": null,
            "height": null,
            "min_height": null,
            "padding": null,
            "grid_auto_rows": null,
            "grid_gap": null,
            "max_width": null,
            "order": null,
            "_view_module_version": "1.2.0",
            "grid_template_areas": null,
            "object_position": null,
            "object_fit": null,
            "grid_auto_columns": null,
            "margin": null,
            "display": null,
            "left": null
          }
        },
        "e277dcc757514891b0287f43b9977f11": {
          "model_module": "@jupyter-widgets/controls",
          "model_name": "IntProgressModel",
          "state": {
            "_view_name": "ProgressView",
            "style": "IPY_MODEL_1ff01d380d8842d79bff72c8f75ac130",
            "_dom_classes": [],
            "description": "100%",
            "_model_name": "IntProgressModel",
            "bar_style": "success",
            "max": 2225,
            "_view_module": "@jupyter-widgets/controls",
            "_model_module_version": "1.5.0",
            "value": 2225,
            "_view_count": null,
            "_view_module_version": "1.5.0",
            "orientation": "horizontal",
            "min": 0,
            "description_tooltip": null,
            "_model_module": "@jupyter-widgets/controls",
            "layout": "IPY_MODEL_7fd523f9618d4856915a7c6e50885218"
          }
        },
        "9d00af47ab6c4573b4c45decaf6ddba9": {
          "model_module": "@jupyter-widgets/controls",
          "model_name": "HTMLModel",
          "state": {
            "_view_name": "HTMLView",
            "style": "IPY_MODEL_c446651c5fff40d4b8a5b273e859e4f3",
            "_dom_classes": [],
            "description": "",
            "_model_name": "HTMLModel",
            "placeholder": "​",
            "_view_module": "@jupyter-widgets/controls",
            "_model_module_version": "1.5.0",
            "value": " 2225/2225 [04:31&lt;00:00,  8.20it/s]",
            "_view_count": null,
            "_view_module_version": "1.5.0",
            "description_tooltip": null,
            "_model_module": "@jupyter-widgets/controls",
            "layout": "IPY_MODEL_85fb1bba7906417fa384a0177e6b9e56"
          }
        },
        "1ff01d380d8842d79bff72c8f75ac130": {
          "model_module": "@jupyter-widgets/controls",
          "model_name": "ProgressStyleModel",
          "state": {
            "_view_name": "StyleView",
            "_model_name": "ProgressStyleModel",
            "description_width": "initial",
            "_view_module": "@jupyter-widgets/base",
            "_model_module_version": "1.5.0",
            "_view_count": null,
            "_view_module_version": "1.2.0",
            "bar_color": null,
            "_model_module": "@jupyter-widgets/controls"
          }
        },
        "7fd523f9618d4856915a7c6e50885218": {
          "model_module": "@jupyter-widgets/base",
          "model_name": "LayoutModel",
          "state": {
            "_view_name": "LayoutView",
            "grid_template_rows": null,
            "right": null,
            "justify_content": null,
            "_view_module": "@jupyter-widgets/base",
            "overflow": null,
            "_model_module_version": "1.2.0",
            "_view_count": null,
            "flex_flow": null,
            "width": null,
            "min_width": null,
            "border": null,
            "align_items": null,
            "bottom": null,
            "_model_module": "@jupyter-widgets/base",
            "top": null,
            "grid_column": null,
            "overflow_y": null,
            "overflow_x": null,
            "grid_auto_flow": null,
            "grid_area": null,
            "grid_template_columns": null,
            "flex": null,
            "_model_name": "LayoutModel",
            "justify_items": null,
            "grid_row": null,
            "max_height": null,
            "align_content": null,
            "visibility": null,
            "align_self": null,
            "height": null,
            "min_height": null,
            "padding": null,
            "grid_auto_rows": null,
            "grid_gap": null,
            "max_width": null,
            "order": null,
            "_view_module_version": "1.2.0",
            "grid_template_areas": null,
            "object_position": null,
            "object_fit": null,
            "grid_auto_columns": null,
            "margin": null,
            "display": null,
            "left": null
          }
        },
        "c446651c5fff40d4b8a5b273e859e4f3": {
          "model_module": "@jupyter-widgets/controls",
          "model_name": "DescriptionStyleModel",
          "state": {
            "_view_name": "StyleView",
            "_model_name": "DescriptionStyleModel",
            "description_width": "",
            "_view_module": "@jupyter-widgets/base",
            "_model_module_version": "1.5.0",
            "_view_count": null,
            "_view_module_version": "1.2.0",
            "_model_module": "@jupyter-widgets/controls"
          }
        },
        "85fb1bba7906417fa384a0177e6b9e56": {
          "model_module": "@jupyter-widgets/base",
          "model_name": "LayoutModel",
          "state": {
            "_view_name": "LayoutView",
            "grid_template_rows": null,
            "right": null,
            "justify_content": null,
            "_view_module": "@jupyter-widgets/base",
            "overflow": null,
            "_model_module_version": "1.2.0",
            "_view_count": null,
            "flex_flow": null,
            "width": null,
            "min_width": null,
            "border": null,
            "align_items": null,
            "bottom": null,
            "_model_module": "@jupyter-widgets/base",
            "top": null,
            "grid_column": null,
            "overflow_y": null,
            "overflow_x": null,
            "grid_auto_flow": null,
            "grid_area": null,
            "grid_template_columns": null,
            "flex": null,
            "_model_name": "LayoutModel",
            "justify_items": null,
            "grid_row": null,
            "max_height": null,
            "align_content": null,
            "visibility": null,
            "align_self": null,
            "height": null,
            "min_height": null,
            "padding": null,
            "grid_auto_rows": null,
            "grid_gap": null,
            "max_width": null,
            "order": null,
            "_view_module_version": "1.2.0",
            "grid_template_areas": null,
            "object_position": null,
            "object_fit": null,
            "grid_auto_columns": null,
            "margin": null,
            "display": null,
            "left": null
          }
        },
        "e40fb56c582a410987bf96b6afac6c5e": {
          "model_module": "@jupyter-widgets/controls",
          "model_name": "HBoxModel",
          "state": {
            "_view_name": "HBoxView",
            "_dom_classes": [],
            "_model_name": "HBoxModel",
            "_view_module": "@jupyter-widgets/controls",
            "_model_module_version": "1.5.0",
            "_view_count": null,
            "_view_module_version": "1.5.0",
            "box_style": "",
            "layout": "IPY_MODEL_e7cd0a07adc44d81b6b422e3e858c771",
            "_model_module": "@jupyter-widgets/controls",
            "children": [
              "IPY_MODEL_37b696daf34a49078b9db9393ed610a6",
              "IPY_MODEL_41dfd63928f04ce389aec24edc0ab6e9"
            ]
          }
        },
        "e7cd0a07adc44d81b6b422e3e858c771": {
          "model_module": "@jupyter-widgets/base",
          "model_name": "LayoutModel",
          "state": {
            "_view_name": "LayoutView",
            "grid_template_rows": null,
            "right": null,
            "justify_content": null,
            "_view_module": "@jupyter-widgets/base",
            "overflow": null,
            "_model_module_version": "1.2.0",
            "_view_count": null,
            "flex_flow": null,
            "width": null,
            "min_width": null,
            "border": null,
            "align_items": null,
            "bottom": null,
            "_model_module": "@jupyter-widgets/base",
            "top": null,
            "grid_column": null,
            "overflow_y": null,
            "overflow_x": null,
            "grid_auto_flow": null,
            "grid_area": null,
            "grid_template_columns": null,
            "flex": null,
            "_model_name": "LayoutModel",
            "justify_items": null,
            "grid_row": null,
            "max_height": null,
            "align_content": null,
            "visibility": null,
            "align_self": null,
            "height": null,
            "min_height": null,
            "padding": null,
            "grid_auto_rows": null,
            "grid_gap": null,
            "max_width": null,
            "order": null,
            "_view_module_version": "1.2.0",
            "grid_template_areas": null,
            "object_position": null,
            "object_fit": null,
            "grid_auto_columns": null,
            "margin": null,
            "display": null,
            "left": null
          }
        },
        "37b696daf34a49078b9db9393ed610a6": {
          "model_module": "@jupyter-widgets/controls",
          "model_name": "IntProgressModel",
          "state": {
            "_view_name": "ProgressView",
            "style": "IPY_MODEL_597508c77f224950b559f9794256687d",
            "_dom_classes": [],
            "description": "100%",
            "_model_name": "IntProgressModel",
            "bar_style": "success",
            "max": 2225,
            "_view_module": "@jupyter-widgets/controls",
            "_model_module_version": "1.5.0",
            "value": 2225,
            "_view_count": null,
            "_view_module_version": "1.5.0",
            "orientation": "horizontal",
            "min": 0,
            "description_tooltip": null,
            "_model_module": "@jupyter-widgets/controls",
            "layout": "IPY_MODEL_7ddf70e501764a3d9c693bac8e1f9c74"
          }
        },
        "41dfd63928f04ce389aec24edc0ab6e9": {
          "model_module": "@jupyter-widgets/controls",
          "model_name": "HTMLModel",
          "state": {
            "_view_name": "HTMLView",
            "style": "IPY_MODEL_ae91018b8e824edb8385758901e57af5",
            "_dom_classes": [],
            "description": "",
            "_model_name": "HTMLModel",
            "placeholder": "​",
            "_view_module": "@jupyter-widgets/controls",
            "_model_module_version": "1.5.0",
            "value": " 2225/2225 [13:17&lt;00:00,  2.79it/s]",
            "_view_count": null,
            "_view_module_version": "1.5.0",
            "description_tooltip": null,
            "_model_module": "@jupyter-widgets/controls",
            "layout": "IPY_MODEL_fb98d71b343343d6b20ac2afb3017096"
          }
        },
        "597508c77f224950b559f9794256687d": {
          "model_module": "@jupyter-widgets/controls",
          "model_name": "ProgressStyleModel",
          "state": {
            "_view_name": "StyleView",
            "_model_name": "ProgressStyleModel",
            "description_width": "initial",
            "_view_module": "@jupyter-widgets/base",
            "_model_module_version": "1.5.0",
            "_view_count": null,
            "_view_module_version": "1.2.0",
            "bar_color": null,
            "_model_module": "@jupyter-widgets/controls"
          }
        },
        "7ddf70e501764a3d9c693bac8e1f9c74": {
          "model_module": "@jupyter-widgets/base",
          "model_name": "LayoutModel",
          "state": {
            "_view_name": "LayoutView",
            "grid_template_rows": null,
            "right": null,
            "justify_content": null,
            "_view_module": "@jupyter-widgets/base",
            "overflow": null,
            "_model_module_version": "1.2.0",
            "_view_count": null,
            "flex_flow": null,
            "width": null,
            "min_width": null,
            "border": null,
            "align_items": null,
            "bottom": null,
            "_model_module": "@jupyter-widgets/base",
            "top": null,
            "grid_column": null,
            "overflow_y": null,
            "overflow_x": null,
            "grid_auto_flow": null,
            "grid_area": null,
            "grid_template_columns": null,
            "flex": null,
            "_model_name": "LayoutModel",
            "justify_items": null,
            "grid_row": null,
            "max_height": null,
            "align_content": null,
            "visibility": null,
            "align_self": null,
            "height": null,
            "min_height": null,
            "padding": null,
            "grid_auto_rows": null,
            "grid_gap": null,
            "max_width": null,
            "order": null,
            "_view_module_version": "1.2.0",
            "grid_template_areas": null,
            "object_position": null,
            "object_fit": null,
            "grid_auto_columns": null,
            "margin": null,
            "display": null,
            "left": null
          }
        },
        "ae91018b8e824edb8385758901e57af5": {
          "model_module": "@jupyter-widgets/controls",
          "model_name": "DescriptionStyleModel",
          "state": {
            "_view_name": "StyleView",
            "_model_name": "DescriptionStyleModel",
            "description_width": "",
            "_view_module": "@jupyter-widgets/base",
            "_model_module_version": "1.5.0",
            "_view_count": null,
            "_view_module_version": "1.2.0",
            "_model_module": "@jupyter-widgets/controls"
          }
        },
        "fb98d71b343343d6b20ac2afb3017096": {
          "model_module": "@jupyter-widgets/base",
          "model_name": "LayoutModel",
          "state": {
            "_view_name": "LayoutView",
            "grid_template_rows": null,
            "right": null,
            "justify_content": null,
            "_view_module": "@jupyter-widgets/base",
            "overflow": null,
            "_model_module_version": "1.2.0",
            "_view_count": null,
            "flex_flow": null,
            "width": null,
            "min_width": null,
            "border": null,
            "align_items": null,
            "bottom": null,
            "_model_module": "@jupyter-widgets/base",
            "top": null,
            "grid_column": null,
            "overflow_y": null,
            "overflow_x": null,
            "grid_auto_flow": null,
            "grid_area": null,
            "grid_template_columns": null,
            "flex": null,
            "_model_name": "LayoutModel",
            "justify_items": null,
            "grid_row": null,
            "max_height": null,
            "align_content": null,
            "visibility": null,
            "align_self": null,
            "height": null,
            "min_height": null,
            "padding": null,
            "grid_auto_rows": null,
            "grid_gap": null,
            "max_width": null,
            "order": null,
            "_view_module_version": "1.2.0",
            "grid_template_areas": null,
            "object_position": null,
            "object_fit": null,
            "grid_auto_columns": null,
            "margin": null,
            "display": null,
            "left": null
          }
        },
        "2e5ac89c2f5548a7a36389b4ef66af89": {
          "model_module": "@jupyter-widgets/controls",
          "model_name": "HBoxModel",
          "state": {
            "_view_name": "HBoxView",
            "_dom_classes": [],
            "_model_name": "HBoxModel",
            "_view_module": "@jupyter-widgets/controls",
            "_model_module_version": "1.5.0",
            "_view_count": null,
            "_view_module_version": "1.5.0",
            "box_style": "",
            "layout": "IPY_MODEL_e2fbe1ea0ced4adf82b469cf4334c29b",
            "_model_module": "@jupyter-widgets/controls",
            "children": [
              "IPY_MODEL_186c9fc532e943b1b0ae099c949cbe83",
              "IPY_MODEL_0be24c2faa264800950e26d1796dd136"
            ]
          }
        },
        "e2fbe1ea0ced4adf82b469cf4334c29b": {
          "model_module": "@jupyter-widgets/base",
          "model_name": "LayoutModel",
          "state": {
            "_view_name": "LayoutView",
            "grid_template_rows": null,
            "right": null,
            "justify_content": null,
            "_view_module": "@jupyter-widgets/base",
            "overflow": null,
            "_model_module_version": "1.2.0",
            "_view_count": null,
            "flex_flow": null,
            "width": null,
            "min_width": null,
            "border": null,
            "align_items": null,
            "bottom": null,
            "_model_module": "@jupyter-widgets/base",
            "top": null,
            "grid_column": null,
            "overflow_y": null,
            "overflow_x": null,
            "grid_auto_flow": null,
            "grid_area": null,
            "grid_template_columns": null,
            "flex": null,
            "_model_name": "LayoutModel",
            "justify_items": null,
            "grid_row": null,
            "max_height": null,
            "align_content": null,
            "visibility": null,
            "align_self": null,
            "height": null,
            "min_height": null,
            "padding": null,
            "grid_auto_rows": null,
            "grid_gap": null,
            "max_width": null,
            "order": null,
            "_view_module_version": "1.2.0",
            "grid_template_areas": null,
            "object_position": null,
            "object_fit": null,
            "grid_auto_columns": null,
            "margin": null,
            "display": null,
            "left": null
          }
        },
        "186c9fc532e943b1b0ae099c949cbe83": {
          "model_module": "@jupyter-widgets/controls",
          "model_name": "IntProgressModel",
          "state": {
            "_view_name": "ProgressView",
            "style": "IPY_MODEL_cb802d346938482eb69738db51edbb88",
            "_dom_classes": [],
            "description": "100%",
            "_model_name": "IntProgressModel",
            "bar_style": "success",
            "max": 2225,
            "_view_module": "@jupyter-widgets/controls",
            "_model_module_version": "1.5.0",
            "value": 2225,
            "_view_count": null,
            "_view_module_version": "1.5.0",
            "orientation": "horizontal",
            "min": 0,
            "description_tooltip": null,
            "_model_module": "@jupyter-widgets/controls",
            "layout": "IPY_MODEL_3529fc83d26849168a85d185a859f43f"
          }
        },
        "0be24c2faa264800950e26d1796dd136": {
          "model_module": "@jupyter-widgets/controls",
          "model_name": "HTMLModel",
          "state": {
            "_view_name": "HTMLView",
            "style": "IPY_MODEL_a1bdcb04b1c54fe7a93629516b5bf6c3",
            "_dom_classes": [],
            "description": "",
            "_model_name": "HTMLModel",
            "placeholder": "​",
            "_view_module": "@jupyter-widgets/controls",
            "_model_module_version": "1.5.0",
            "value": " 2225/2225 [07:44&lt;00:00,  4.79it/s]",
            "_view_count": null,
            "_view_module_version": "1.5.0",
            "description_tooltip": null,
            "_model_module": "@jupyter-widgets/controls",
            "layout": "IPY_MODEL_69a0f93874c0428cad749fb5b4bde4be"
          }
        },
        "cb802d346938482eb69738db51edbb88": {
          "model_module": "@jupyter-widgets/controls",
          "model_name": "ProgressStyleModel",
          "state": {
            "_view_name": "StyleView",
            "_model_name": "ProgressStyleModel",
            "description_width": "initial",
            "_view_module": "@jupyter-widgets/base",
            "_model_module_version": "1.5.0",
            "_view_count": null,
            "_view_module_version": "1.2.0",
            "bar_color": null,
            "_model_module": "@jupyter-widgets/controls"
          }
        },
        "3529fc83d26849168a85d185a859f43f": {
          "model_module": "@jupyter-widgets/base",
          "model_name": "LayoutModel",
          "state": {
            "_view_name": "LayoutView",
            "grid_template_rows": null,
            "right": null,
            "justify_content": null,
            "_view_module": "@jupyter-widgets/base",
            "overflow": null,
            "_model_module_version": "1.2.0",
            "_view_count": null,
            "flex_flow": null,
            "width": null,
            "min_width": null,
            "border": null,
            "align_items": null,
            "bottom": null,
            "_model_module": "@jupyter-widgets/base",
            "top": null,
            "grid_column": null,
            "overflow_y": null,
            "overflow_x": null,
            "grid_auto_flow": null,
            "grid_area": null,
            "grid_template_columns": null,
            "flex": null,
            "_model_name": "LayoutModel",
            "justify_items": null,
            "grid_row": null,
            "max_height": null,
            "align_content": null,
            "visibility": null,
            "align_self": null,
            "height": null,
            "min_height": null,
            "padding": null,
            "grid_auto_rows": null,
            "grid_gap": null,
            "max_width": null,
            "order": null,
            "_view_module_version": "1.2.0",
            "grid_template_areas": null,
            "object_position": null,
            "object_fit": null,
            "grid_auto_columns": null,
            "margin": null,
            "display": null,
            "left": null
          }
        },
        "a1bdcb04b1c54fe7a93629516b5bf6c3": {
          "model_module": "@jupyter-widgets/controls",
          "model_name": "DescriptionStyleModel",
          "state": {
            "_view_name": "StyleView",
            "_model_name": "DescriptionStyleModel",
            "description_width": "",
            "_view_module": "@jupyter-widgets/base",
            "_model_module_version": "1.5.0",
            "_view_count": null,
            "_view_module_version": "1.2.0",
            "_model_module": "@jupyter-widgets/controls"
          }
        },
        "69a0f93874c0428cad749fb5b4bde4be": {
          "model_module": "@jupyter-widgets/base",
          "model_name": "LayoutModel",
          "state": {
            "_view_name": "LayoutView",
            "grid_template_rows": null,
            "right": null,
            "justify_content": null,
            "_view_module": "@jupyter-widgets/base",
            "overflow": null,
            "_model_module_version": "1.2.0",
            "_view_count": null,
            "flex_flow": null,
            "width": null,
            "min_width": null,
            "border": null,
            "align_items": null,
            "bottom": null,
            "_model_module": "@jupyter-widgets/base",
            "top": null,
            "grid_column": null,
            "overflow_y": null,
            "overflow_x": null,
            "grid_auto_flow": null,
            "grid_area": null,
            "grid_template_columns": null,
            "flex": null,
            "_model_name": "LayoutModel",
            "justify_items": null,
            "grid_row": null,
            "max_height": null,
            "align_content": null,
            "visibility": null,
            "align_self": null,
            "height": null,
            "min_height": null,
            "padding": null,
            "grid_auto_rows": null,
            "grid_gap": null,
            "max_width": null,
            "order": null,
            "_view_module_version": "1.2.0",
            "grid_template_areas": null,
            "object_position": null,
            "object_fit": null,
            "grid_auto_columns": null,
            "margin": null,
            "display": null,
            "left": null
          }
        },
        "6ce2491e9a7f4c06b6b7672cd3a0b7b6": {
          "model_module": "@jupyter-widgets/controls",
          "model_name": "HBoxModel",
          "state": {
            "_view_name": "HBoxView",
            "_dom_classes": [],
            "_model_name": "HBoxModel",
            "_view_module": "@jupyter-widgets/controls",
            "_model_module_version": "1.5.0",
            "_view_count": null,
            "_view_module_version": "1.5.0",
            "box_style": "",
            "layout": "IPY_MODEL_54c58ee4baa54a9da91cb8a7d4dc4ac3",
            "_model_module": "@jupyter-widgets/controls",
            "children": [
              "IPY_MODEL_b9d21dc7dd634831a49cf8f1f801e190",
              "IPY_MODEL_0d4dceab82784398b9c99d02e101fade"
            ]
          }
        },
        "54c58ee4baa54a9da91cb8a7d4dc4ac3": {
          "model_module": "@jupyter-widgets/base",
          "model_name": "LayoutModel",
          "state": {
            "_view_name": "LayoutView",
            "grid_template_rows": null,
            "right": null,
            "justify_content": null,
            "_view_module": "@jupyter-widgets/base",
            "overflow": null,
            "_model_module_version": "1.2.0",
            "_view_count": null,
            "flex_flow": null,
            "width": null,
            "min_width": null,
            "border": null,
            "align_items": null,
            "bottom": null,
            "_model_module": "@jupyter-widgets/base",
            "top": null,
            "grid_column": null,
            "overflow_y": null,
            "overflow_x": null,
            "grid_auto_flow": null,
            "grid_area": null,
            "grid_template_columns": null,
            "flex": null,
            "_model_name": "LayoutModel",
            "justify_items": null,
            "grid_row": null,
            "max_height": null,
            "align_content": null,
            "visibility": null,
            "align_self": null,
            "height": null,
            "min_height": null,
            "padding": null,
            "grid_auto_rows": null,
            "grid_gap": null,
            "max_width": null,
            "order": null,
            "_view_module_version": "1.2.0",
            "grid_template_areas": null,
            "object_position": null,
            "object_fit": null,
            "grid_auto_columns": null,
            "margin": null,
            "display": null,
            "left": null
          }
        },
        "b9d21dc7dd634831a49cf8f1f801e190": {
          "model_module": "@jupyter-widgets/controls",
          "model_name": "IntProgressModel",
          "state": {
            "_view_name": "ProgressView",
            "style": "IPY_MODEL_0c0703a5bfa5479e9c1a2c55da4fe757",
            "_dom_classes": [],
            "description": "100%",
            "_model_name": "IntProgressModel",
            "bar_style": "success",
            "max": 2225,
            "_view_module": "@jupyter-widgets/controls",
            "_model_module_version": "1.5.0",
            "value": 2225,
            "_view_count": null,
            "_view_module_version": "1.5.0",
            "orientation": "horizontal",
            "min": 0,
            "description_tooltip": null,
            "_model_module": "@jupyter-widgets/controls",
            "layout": "IPY_MODEL_586753975c4941819aa609d76dd03648"
          }
        },
        "0d4dceab82784398b9c99d02e101fade": {
          "model_module": "@jupyter-widgets/controls",
          "model_name": "HTMLModel",
          "state": {
            "_view_name": "HTMLView",
            "style": "IPY_MODEL_7af7a98de6a541fc82bf614dbfbcef17",
            "_dom_classes": [],
            "description": "",
            "_model_name": "HTMLModel",
            "placeholder": "​",
            "_view_module": "@jupyter-widgets/controls",
            "_model_module_version": "1.5.0",
            "value": " 2225/2225 [00:48&lt;00:00, 45.92it/s]",
            "_view_count": null,
            "_view_module_version": "1.5.0",
            "description_tooltip": null,
            "_model_module": "@jupyter-widgets/controls",
            "layout": "IPY_MODEL_04f47760382041e88b3343799703d30b"
          }
        },
        "0c0703a5bfa5479e9c1a2c55da4fe757": {
          "model_module": "@jupyter-widgets/controls",
          "model_name": "ProgressStyleModel",
          "state": {
            "_view_name": "StyleView",
            "_model_name": "ProgressStyleModel",
            "description_width": "initial",
            "_view_module": "@jupyter-widgets/base",
            "_model_module_version": "1.5.0",
            "_view_count": null,
            "_view_module_version": "1.2.0",
            "bar_color": null,
            "_model_module": "@jupyter-widgets/controls"
          }
        },
        "586753975c4941819aa609d76dd03648": {
          "model_module": "@jupyter-widgets/base",
          "model_name": "LayoutModel",
          "state": {
            "_view_name": "LayoutView",
            "grid_template_rows": null,
            "right": null,
            "justify_content": null,
            "_view_module": "@jupyter-widgets/base",
            "overflow": null,
            "_model_module_version": "1.2.0",
            "_view_count": null,
            "flex_flow": null,
            "width": null,
            "min_width": null,
            "border": null,
            "align_items": null,
            "bottom": null,
            "_model_module": "@jupyter-widgets/base",
            "top": null,
            "grid_column": null,
            "overflow_y": null,
            "overflow_x": null,
            "grid_auto_flow": null,
            "grid_area": null,
            "grid_template_columns": null,
            "flex": null,
            "_model_name": "LayoutModel",
            "justify_items": null,
            "grid_row": null,
            "max_height": null,
            "align_content": null,
            "visibility": null,
            "align_self": null,
            "height": null,
            "min_height": null,
            "padding": null,
            "grid_auto_rows": null,
            "grid_gap": null,
            "max_width": null,
            "order": null,
            "_view_module_version": "1.2.0",
            "grid_template_areas": null,
            "object_position": null,
            "object_fit": null,
            "grid_auto_columns": null,
            "margin": null,
            "display": null,
            "left": null
          }
        },
        "7af7a98de6a541fc82bf614dbfbcef17": {
          "model_module": "@jupyter-widgets/controls",
          "model_name": "DescriptionStyleModel",
          "state": {
            "_view_name": "StyleView",
            "_model_name": "DescriptionStyleModel",
            "description_width": "",
            "_view_module": "@jupyter-widgets/base",
            "_model_module_version": "1.5.0",
            "_view_count": null,
            "_view_module_version": "1.2.0",
            "_model_module": "@jupyter-widgets/controls"
          }
        },
        "04f47760382041e88b3343799703d30b": {
          "model_module": "@jupyter-widgets/base",
          "model_name": "LayoutModel",
          "state": {
            "_view_name": "LayoutView",
            "grid_template_rows": null,
            "right": null,
            "justify_content": null,
            "_view_module": "@jupyter-widgets/base",
            "overflow": null,
            "_model_module_version": "1.2.0",
            "_view_count": null,
            "flex_flow": null,
            "width": null,
            "min_width": null,
            "border": null,
            "align_items": null,
            "bottom": null,
            "_model_module": "@jupyter-widgets/base",
            "top": null,
            "grid_column": null,
            "overflow_y": null,
            "overflow_x": null,
            "grid_auto_flow": null,
            "grid_area": null,
            "grid_template_columns": null,
            "flex": null,
            "_model_name": "LayoutModel",
            "justify_items": null,
            "grid_row": null,
            "max_height": null,
            "align_content": null,
            "visibility": null,
            "align_self": null,
            "height": null,
            "min_height": null,
            "padding": null,
            "grid_auto_rows": null,
            "grid_gap": null,
            "max_width": null,
            "order": null,
            "_view_module_version": "1.2.0",
            "grid_template_areas": null,
            "object_position": null,
            "object_fit": null,
            "grid_auto_columns": null,
            "margin": null,
            "display": null,
            "left": null
          }
        },
        "11ac5e774e41460b905ab2587651d539": {
          "model_module": "@jupyter-widgets/controls",
          "model_name": "HBoxModel",
          "state": {
            "_view_name": "HBoxView",
            "_dom_classes": [],
            "_model_name": "HBoxModel",
            "_view_module": "@jupyter-widgets/controls",
            "_model_module_version": "1.5.0",
            "_view_count": null,
            "_view_module_version": "1.5.0",
            "box_style": "",
            "layout": "IPY_MODEL_e263d0fc4c2d474d94839f2038096e4f",
            "_model_module": "@jupyter-widgets/controls",
            "children": [
              "IPY_MODEL_4fa79ed69b1644cab363ff7b0bc91b1a",
              "IPY_MODEL_a42c77bb35ac4cf3893f13daa9512f10"
            ]
          }
        },
        "e263d0fc4c2d474d94839f2038096e4f": {
          "model_module": "@jupyter-widgets/base",
          "model_name": "LayoutModel",
          "state": {
            "_view_name": "LayoutView",
            "grid_template_rows": null,
            "right": null,
            "justify_content": null,
            "_view_module": "@jupyter-widgets/base",
            "overflow": null,
            "_model_module_version": "1.2.0",
            "_view_count": null,
            "flex_flow": null,
            "width": null,
            "min_width": null,
            "border": null,
            "align_items": null,
            "bottom": null,
            "_model_module": "@jupyter-widgets/base",
            "top": null,
            "grid_column": null,
            "overflow_y": null,
            "overflow_x": null,
            "grid_auto_flow": null,
            "grid_area": null,
            "grid_template_columns": null,
            "flex": null,
            "_model_name": "LayoutModel",
            "justify_items": null,
            "grid_row": null,
            "max_height": null,
            "align_content": null,
            "visibility": null,
            "align_self": null,
            "height": null,
            "min_height": null,
            "padding": null,
            "grid_auto_rows": null,
            "grid_gap": null,
            "max_width": null,
            "order": null,
            "_view_module_version": "1.2.0",
            "grid_template_areas": null,
            "object_position": null,
            "object_fit": null,
            "grid_auto_columns": null,
            "margin": null,
            "display": null,
            "left": null
          }
        },
        "4fa79ed69b1644cab363ff7b0bc91b1a": {
          "model_module": "@jupyter-widgets/controls",
          "model_name": "IntProgressModel",
          "state": {
            "_view_name": "ProgressView",
            "style": "IPY_MODEL_abf483cac18248b986ddc912888a62c3",
            "_dom_classes": [],
            "description": "100%",
            "_model_name": "IntProgressModel",
            "bar_style": "success",
            "max": 2225,
            "_view_module": "@jupyter-widgets/controls",
            "_model_module_version": "1.5.0",
            "value": 2225,
            "_view_count": null,
            "_view_module_version": "1.5.0",
            "orientation": "horizontal",
            "min": 0,
            "description_tooltip": null,
            "_model_module": "@jupyter-widgets/controls",
            "layout": "IPY_MODEL_74627ee2d6cd4cff9c72c2d1b350be7b"
          }
        },
        "a42c77bb35ac4cf3893f13daa9512f10": {
          "model_module": "@jupyter-widgets/controls",
          "model_name": "HTMLModel",
          "state": {
            "_view_name": "HTMLView",
            "style": "IPY_MODEL_b7289b6de51c438aa305fadf069e56c1",
            "_dom_classes": [],
            "description": "",
            "_model_name": "HTMLModel",
            "placeholder": "​",
            "_view_module": "@jupyter-widgets/controls",
            "_model_module_version": "1.5.0",
            "value": " 2225/2225 [08:40&lt;00:00,  4.27it/s]",
            "_view_count": null,
            "_view_module_version": "1.5.0",
            "description_tooltip": null,
            "_model_module": "@jupyter-widgets/controls",
            "layout": "IPY_MODEL_0c805e1376a94cc69309f9d7ebff2484"
          }
        },
        "abf483cac18248b986ddc912888a62c3": {
          "model_module": "@jupyter-widgets/controls",
          "model_name": "ProgressStyleModel",
          "state": {
            "_view_name": "StyleView",
            "_model_name": "ProgressStyleModel",
            "description_width": "initial",
            "_view_module": "@jupyter-widgets/base",
            "_model_module_version": "1.5.0",
            "_view_count": null,
            "_view_module_version": "1.2.0",
            "bar_color": null,
            "_model_module": "@jupyter-widgets/controls"
          }
        },
        "74627ee2d6cd4cff9c72c2d1b350be7b": {
          "model_module": "@jupyter-widgets/base",
          "model_name": "LayoutModel",
          "state": {
            "_view_name": "LayoutView",
            "grid_template_rows": null,
            "right": null,
            "justify_content": null,
            "_view_module": "@jupyter-widgets/base",
            "overflow": null,
            "_model_module_version": "1.2.0",
            "_view_count": null,
            "flex_flow": null,
            "width": null,
            "min_width": null,
            "border": null,
            "align_items": null,
            "bottom": null,
            "_model_module": "@jupyter-widgets/base",
            "top": null,
            "grid_column": null,
            "overflow_y": null,
            "overflow_x": null,
            "grid_auto_flow": null,
            "grid_area": null,
            "grid_template_columns": null,
            "flex": null,
            "_model_name": "LayoutModel",
            "justify_items": null,
            "grid_row": null,
            "max_height": null,
            "align_content": null,
            "visibility": null,
            "align_self": null,
            "height": null,
            "min_height": null,
            "padding": null,
            "grid_auto_rows": null,
            "grid_gap": null,
            "max_width": null,
            "order": null,
            "_view_module_version": "1.2.0",
            "grid_template_areas": null,
            "object_position": null,
            "object_fit": null,
            "grid_auto_columns": null,
            "margin": null,
            "display": null,
            "left": null
          }
        },
        "b7289b6de51c438aa305fadf069e56c1": {
          "model_module": "@jupyter-widgets/controls",
          "model_name": "DescriptionStyleModel",
          "state": {
            "_view_name": "StyleView",
            "_model_name": "DescriptionStyleModel",
            "description_width": "",
            "_view_module": "@jupyter-widgets/base",
            "_model_module_version": "1.5.0",
            "_view_count": null,
            "_view_module_version": "1.2.0",
            "_model_module": "@jupyter-widgets/controls"
          }
        },
        "0c805e1376a94cc69309f9d7ebff2484": {
          "model_module": "@jupyter-widgets/base",
          "model_name": "LayoutModel",
          "state": {
            "_view_name": "LayoutView",
            "grid_template_rows": null,
            "right": null,
            "justify_content": null,
            "_view_module": "@jupyter-widgets/base",
            "overflow": null,
            "_model_module_version": "1.2.0",
            "_view_count": null,
            "flex_flow": null,
            "width": null,
            "min_width": null,
            "border": null,
            "align_items": null,
            "bottom": null,
            "_model_module": "@jupyter-widgets/base",
            "top": null,
            "grid_column": null,
            "overflow_y": null,
            "overflow_x": null,
            "grid_auto_flow": null,
            "grid_area": null,
            "grid_template_columns": null,
            "flex": null,
            "_model_name": "LayoutModel",
            "justify_items": null,
            "grid_row": null,
            "max_height": null,
            "align_content": null,
            "visibility": null,
            "align_self": null,
            "height": null,
            "min_height": null,
            "padding": null,
            "grid_auto_rows": null,
            "grid_gap": null,
            "max_width": null,
            "order": null,
            "_view_module_version": "1.2.0",
            "grid_template_areas": null,
            "object_position": null,
            "object_fit": null,
            "grid_auto_columns": null,
            "margin": null,
            "display": null,
            "left": null
          }
        }
      }
    }
  },
  "cells": [
    {
      "cell_type": "markdown",
      "metadata": {
        "id": "KfyoXN1qJlHN",
        "colab_type": "text"
      },
      "source": [
        "Predefined libraries that are required"
      ]
    },
    {
      "cell_type": "code",
      "metadata": {
        "colab_type": "code",
        "id": "lVjNK8shFKOC",
        "colab": {}
      },
      "source": [
        "%%capture\n",
        "# Install the latest Tensorflow version.\n",
        "!pip3 install --upgrade tensorflow-gpu\n",
        "# Install TF-Hub.\n",
        "!pip3 install tensorflow-hub\n",
        "!pip3 install seaborn\n",
        "!pip3 install fast-pagerank\n",
        "!pip3 install rouge"
      ],
      "execution_count": 0,
      "outputs": []
    },
    {
      "cell_type": "code",
      "metadata": {
        "colab_type": "code",
        "cellView": "both",
        "id": "77MPZ2nQzzqi",
        "colab": {}
      },
      "source": [
        "from absl import logging\n",
        "\n",
        "import tensorflow as tf\n",
        "import tensorflow_hub as hub\n",
        "import matplotlib.pyplot as plt\n",
        "import numpy as np\n",
        "import os\n",
        "import pandas as pd\n",
        "import re\n",
        "import seaborn as sns\n",
        "from fast_pagerank import pagerank\n",
        "import math\n",
        "import spacy\n",
        "from scipy.sparse import csr_matrix\n",
        "from tqdm.notebook import tqdm\n",
        "import nltk\n",
        "import nltk.data\n",
        "from __future__ import division\n",
        "import gensim\n",
        "from sklearn.decomposition import PCA\n",
        "import gensim.models.word2vec\n",
        "from collections import Counter\n",
        "from nltk.stem import WordNetLemmatizer \n",
        "from sklearn.metrics.pairwise import cosine_similarity\n",
        "import itertools\n",
        "from nltk.tokenize import word_tokenize\n",
        "import re\n",
        "from nltk.corpus import stopwords\n",
        "from nltk.stem import SnowballStemmer\n",
        "from string import punctuation\n",
        "import csv\n",
        "from rouge import Rouge\n",
        "\n",
        "import operator\n",
        "from nltk.corpus import stopwords\n",
        "from nltk.tokenize import sent_tokenize,word_tokenize\n",
        "\n",
        "nltk.download('all')\n",
        "Stopwords = set(stopwords.words('english'))\n",
        "wordlemmatizer = WordNetLemmatizer()\n",
        "tokenizer = nltk.data.load('tokenizers/punkt/english.pickle')\n",
        "\n",
        "\n",
        "\n",
        "\n",
        "\n",
        "nlp = spacy.load('en')"
      ],
      "execution_count": 0,
      "outputs": []
    },
    {
      "cell_type": "code",
      "metadata": {
        "id": "WlSePS3hNliU",
        "colab_type": "code",
        "outputId": "985e29b9-d097-4658-ea18-3aba70f49af9",
        "colab": {
          "base_uri": "https://localhost:8080/",
          "height": 121
        }
      },
      "source": [
        "from google.colab import drive\n",
        "drive.mount('/content/drive',force_remount=True)"
      ],
      "execution_count": 0,
      "outputs": [
        {
          "output_type": "stream",
          "text": [
            "Go to this URL in a browser: https://accounts.google.com/o/oauth2/auth?client_id=947318989803-6bn6qk8qdgf4n4g3pfee6491hc0brc4i.apps.googleusercontent.com&redirect_uri=urn%3aietf%3awg%3aoauth%3a2.0%3aoob&response_type=code&scope=email%20https%3a%2f%2fwww.googleapis.com%2fauth%2fdocs.test%20https%3a%2f%2fwww.googleapis.com%2fauth%2fdrive%20https%3a%2f%2fwww.googleapis.com%2fauth%2fdrive.photos.readonly%20https%3a%2f%2fwww.googleapis.com%2fauth%2fpeopleapi.readonly\n",
            "\n",
            "Enter your authorization code:\n",
            "··········\n",
            "Mounted at /content/drive\n"
          ],
          "name": "stdout"
        }
      ]
    },
    {
      "cell_type": "code",
      "metadata": {
        "id": "V9rJtfo9NoYa",
        "colab_type": "code",
        "colab": {}
      },
      "source": [
        "file_path = '/content/drive/My Drive/NLP_DATA/'\n",
        "news_summary = pd.read_csv(file_path + 'bbc_dataset.csv' , encoding='ISO-8859-1')"
      ],
      "execution_count": 0,
      "outputs": []
    },
    {
      "cell_type": "code",
      "metadata": {
        "id": "gQJICyJ1OcEx",
        "colab_type": "code",
        "outputId": "5c93cd57-ef98-4e05-cebe-019660db78f2",
        "colab": {
          "base_uri": "https://localhost:8080/",
          "height": 195
        }
      },
      "source": [
        "news_summary.head()"
      ],
      "execution_count": 0,
      "outputs": [
        {
          "output_type": "execute_result",
          "data": {
            "text/html": [
              "<div>\n",
              "<style scoped>\n",
              "    .dataframe tbody tr th:only-of-type {\n",
              "        vertical-align: middle;\n",
              "    }\n",
              "\n",
              "    .dataframe tbody tr th {\n",
              "        vertical-align: top;\n",
              "    }\n",
              "\n",
              "    .dataframe thead th {\n",
              "        text-align: right;\n",
              "    }\n",
              "</style>\n",
              "<table border=\"1\" class=\"dataframe\">\n",
              "  <thead>\n",
              "    <tr style=\"text-align: right;\">\n",
              "      <th></th>\n",
              "      <th>ARTICLE</th>\n",
              "      <th>SUMMARY</th>\n",
              "    </tr>\n",
              "  </thead>\n",
              "  <tbody>\n",
              "    <tr>\n",
              "      <th>0</th>\n",
              "      <td>Ad sales boost Time Warner profit\\nQuarterly p...</td>\n",
              "      <td>TimeWarner said fourth quarter sales rose 2% t...</td>\n",
              "    </tr>\n",
              "    <tr>\n",
              "      <th>1</th>\n",
              "      <td>Dollar gains on Greenspan speech\\nThe dollar h...</td>\n",
              "      <td>The dollar has hit its highest level against t...</td>\n",
              "    </tr>\n",
              "    <tr>\n",
              "      <th>2</th>\n",
              "      <td>Yukos unit buyer faces loan claim\\nThe owners ...</td>\n",
              "      <td>Yukos' owner Menatep Group says it will ask Ro...</td>\n",
              "    </tr>\n",
              "    <tr>\n",
              "      <th>3</th>\n",
              "      <td>High fuel prices hit BA's profits\\nBritish Air...</td>\n",
              "      <td>Rod Eddington, BA's chief executive, said the ...</td>\n",
              "    </tr>\n",
              "    <tr>\n",
              "      <th>4</th>\n",
              "      <td>Pernod takeover talk lifts Domecq\\nShares in U...</td>\n",
              "      <td>Pernod has reduced the debt it took on to fund...</td>\n",
              "    </tr>\n",
              "  </tbody>\n",
              "</table>\n",
              "</div>"
            ],
            "text/plain": [
              "                                             ARTICLE                                            SUMMARY\n",
              "0  Ad sales boost Time Warner profit\\nQuarterly p...  TimeWarner said fourth quarter sales rose 2% t...\n",
              "1  Dollar gains on Greenspan speech\\nThe dollar h...  The dollar has hit its highest level against t...\n",
              "2  Yukos unit buyer faces loan claim\\nThe owners ...  Yukos' owner Menatep Group says it will ask Ro...\n",
              "3  High fuel prices hit BA's profits\\nBritish Air...  Rod Eddington, BA's chief executive, said the ...\n",
              "4  Pernod takeover talk lifts Domecq\\nShares in U...  Pernod has reduced the debt it took on to fund..."
            ]
          },
          "metadata": {
            "tags": []
          },
          "execution_count": 6
        }
      ]
    },
    {
      "cell_type": "code",
      "metadata": {
        "colab_type": "code",
        "id": "h1FFCTKm7ba4",
        "colab": {}
      },
      "source": [
        "def embedSentences(messages_):\n",
        "  message_embeddings_ = embed(messages_)\n",
        "  similarity_list.append(np.inner(message_embeddings_, message_embeddings_))\n",
        "  #plot_similarity(messages_, message_embeddings_, 90)\n",
        "\n",
        "def sortListOnSimilarity(paragraph, similarityScore):\n",
        "  similarityScore = similarityScore.reshape(-1)\n",
        "  sorted_index = np.argsort(similarityScore)\n",
        "  sorted_index = sorted_index.reshape(-1)\n",
        "  dummy_list = []\n",
        "  lengthScore = len(similarityScore)\n",
        "  for iter in range(lengthScore):\n",
        "    dummy_list.append(paragraph[sorted_index[iter]])\n",
        "  new_list = \"\"\n",
        "  #the number of sentences to be considered is subject to changes\n",
        "  numberOfSentencesRequired = 10 if math.ceil(lengthScore / 2) > 10 else math.ceil(lengthScore / 2)\n",
        "  for iter in range(numberOfSentencesRequired):\n",
        "    new_list = new_list + dummy_list[lengthScore - iter - 1] + \" \"\n",
        "  return new_list\n",
        "\n",
        "def plot_graph(oneList,twoList, LenList):\n",
        "  plt.plot(oneList, linestyle='-', color='g', label='Rouge 1')\n",
        "  plt.plot(twoList, linestyle=':', color='r', label='Rouge 2')\n",
        "  plt.plot(LenList, linestyle='-', color='b', label='Rouge 3')\n",
        "  plt.legend(loc='best')\n",
        "  plt.xlabel(\"Data\")\n",
        "  plt.ylabel(\"F-Measure\")\n",
        "\n",
        "\n",
        "  x_keys = [\"1\" , \"2\" , \"l\"]\n",
        "  print(\"Mean values\",np.mean(oneList) , np.mean(twoList) , np.mean(LenList))\n",
        "  y_vales = [ np.mean(oneList) , np.mean(twoList) , np.mean(LenList)]\n",
        "  plt.style.use('seaborn-whitegrid')\n",
        "  fig = plt.figure()\n",
        "  ax = plt.axes()\n",
        "  ax.plot( x_keys , y_vales)\n",
        "  plt.xlabel(\"N-Gram\")\n",
        "  plt.ylabel(\"Mean F-Measure\")\n",
        "\n",
        "def runPerformanceMetric(dataframe):\n",
        "  rougeObj = Rouge()\n",
        "  rougeOneList = []\n",
        "  rougeSecondList = []\n",
        "  rougeLenList = []\n",
        "  for i in tqdm(range(len(dataframe[\"ORIGINAL_SUMMARY\"]))):\n",
        "    scores = rougeObj.get_scores(dataframe[\"OUR_SUMMARY\"][i], dataframe[\"ORIGINAL_SUMMARY\"][i])\n",
        "    scores = scores[0]\n",
        "    rougeOneList.append(scores[\"rouge-1\"][\"f\"])\n",
        "    rougeSecondList.append(scores[\"rouge-2\"][\"f\"])\n",
        "    rougeLenList.append(scores[\"rouge-l\"][\"f\"])\n",
        "\n",
        "  plot_graph(rougeOneList,rougeSecondList, rougeLenList )"
      ],
      "execution_count": 0,
      "outputs": []
    },
    {
      "cell_type": "markdown",
      "metadata": {
        "id": "0VOmnX96J8NK",
        "colab_type": "text"
      },
      "source": [
        "Loading Google's Universal Sentence Encoder"
      ]
    },
    {
      "cell_type": "code",
      "metadata": {
        "id": "BdNQYhQfhj0i",
        "colab_type": "code",
        "outputId": "20322e8d-6995-4435-a812-d8418884c062",
        "colab": {
          "base_uri": "https://localhost:8080/",
          "height": 34
        }
      },
      "source": [
        "module_url = \"https://tfhub.dev/google/universal-sentence-encoder/4\"\n",
        "model = hub.load(module_url)\n",
        "print (\"module %s loaded\" % module_url)\n",
        "def embed(input):\n",
        "  return model(input)"
      ],
      "execution_count": 0,
      "outputs": [
        {
          "output_type": "stream",
          "text": [
            "module https://tfhub.dev/google/universal-sentence-encoder/4 loaded\n"
          ],
          "name": "stdout"
        }
      ]
    },
    {
      "cell_type": "code",
      "metadata": {
        "colab_type": "code",
        "id": "cPMCaxrZwp7t",
        "outputId": "4e1b4d3a-7a04-44b8-d2a4-4cdbb4f8acdd",
        "colab": {
          "base_uri": "https://localhost:8080/",
          "height": 66,
          "referenced_widgets": [
            "fce4edb2f0e94cce8571e120b99a4e9f",
            "e3ac982f6a9343e08cf2072931d94bb9",
            "76c8df16cc2640b1b557620c81de592c",
            "7053ec1aaa5246828f0dfa5640a6694d",
            "a747424c46d44147b3324f9538728389",
            "82d7911ad0ab4f429e1e7f9a64161870",
            "399ab1b8b72041f596b1592f94efcfa4",
            "b178af847d864d02b42e1f57c0653579"
          ]
        }
      },
      "source": [
        "output_array = []\n",
        "for each_news_article in tqdm(news_summary[\"ARTICLE\"]):\n",
        "  each_news_sentences = []\n",
        "\n",
        "  # tokenizer with spacy\n",
        "  # tokens = nlp(each_news_article)\n",
        "  # for sent in tokens.sents:\n",
        "  #     each_news_sentences.append(sent.string.strip())\n",
        "  \n",
        "  for sent in tokenizer.tokenize(each_news_article):\n",
        "    each_news_sentences.append(sent)\n",
        "\n",
        "  similarity_list=[]\n",
        "  embedSentences(each_news_sentences)\n",
        "  similarityScore = csr_matrix(np.array(similarity_list)[0])\n",
        "  rankedList=pagerank(similarityScore, p=0.85)\n",
        "  output_array.append(sortListOnSimilarity(each_news_sentences,rankedList))\n",
        "\n",
        "output_pd = pd.DataFrame()\n",
        "output_pd[\"OUR_SUMMARY\"] = output_array\n",
        "output_pd[\"ORIGINAL_SUMMARY\"] = news_summary[\"SUMMARY\"]"
      ],
      "execution_count": 0,
      "outputs": [
        {
          "output_type": "display_data",
          "data": {
            "application/vnd.jupyter.widget-view+json": {
              "model_id": "fce4edb2f0e94cce8571e120b99a4e9f",
              "version_minor": 0,
              "version_major": 2
            },
            "text/plain": [
              "HBox(children=(IntProgress(value=0, max=2225), HTML(value='')))"
            ]
          },
          "metadata": {
            "tags": []
          }
        },
        {
          "output_type": "stream",
          "text": [
            "\n"
          ],
          "name": "stdout"
        }
      ]
    },
    {
      "cell_type": "code",
      "metadata": {
        "id": "l_rIvQtaFr9t",
        "colab_type": "code",
        "outputId": "5bc766ae-b990-4970-d0e2-78e5540fabbf",
        "colab": {
          "base_uri": "https://localhost:8080/",
          "height": 604,
          "referenced_widgets": [
            "e059a0aab80545dcaa3b3c19a267eda7",
            "77b0832de09d4bb79c15032299f6cea1",
            "e277dcc757514891b0287f43b9977f11",
            "9d00af47ab6c4573b4c45decaf6ddba9",
            "1ff01d380d8842d79bff72c8f75ac130",
            "7fd523f9618d4856915a7c6e50885218",
            "c446651c5fff40d4b8a5b273e859e4f3",
            "85fb1bba7906417fa384a0177e6b9e56"
          ]
        }
      },
      "source": [
        "runPerformanceMetric(output_pd)"
      ],
      "execution_count": 0,
      "outputs": [
        {
          "output_type": "display_data",
          "data": {
            "application/vnd.jupyter.widget-view+json": {
              "model_id": "e059a0aab80545dcaa3b3c19a267eda7",
              "version_minor": 0,
              "version_major": 2
            },
            "text/plain": [
              "HBox(children=(IntProgress(value=0, max=2225), HTML(value='')))"
            ]
          },
          "metadata": {
            "tags": []
          }
        },
        {
          "output_type": "stream",
          "text": [
            "\n",
            "Mean values 0.7206945432792313 0.6472138627864064 0.7247340302578442\n"
          ],
          "name": "stdout"
        },
        {
          "output_type": "display_data",
          "data": {
            "image/png": "[encoded data removed]",
            "text/plain": [
              "<Figure size 432x288 with 1 Axes>"
            ]
          },
          "metadata": {
            "tags": [],
            "needs_background": "light"
          }
        },
        {
          "output_type": "display_data",
          "data": {
            "image/png": "[encoded data removed]",
            "text/plain": [
              "<Figure size 432x288 with 1 Axes>"
            ]
          },
          "metadata": {
            "tags": []
          }
        }
      ]
    },
    {
      "cell_type": "markdown",
      "metadata": {
        "id": "wCHQ6OcWIQmT",
        "colab_type": "text"
      },
      "source": [
        "**TF-IDF Sentence Ranking**"
      ]
    },
    {
      "cell_type": "markdown",
      "metadata": {
        "id": "WT_hNghT5RVd",
        "colab_type": "text"
      },
      "source": [
        "\n",
        "Before summarizing we have to preprocess the raw document. Preprocessing involves lemmatization, stemming and cleaning. The lemmatization function helps to lemmatize the word tokens using the wordlemmatizer. The stemming function is used to separate the main stem of the word token. Then punctuation omitter function helps in cleaning the text by removing the punctuation marks."
      ]
    },
    {
      "cell_type": "code",
      "metadata": {
        "id": "kVaN5bgS25A8",
        "colab_type": "code",
        "colab": {}
      },
      "source": [
        "def lemmatization(words):\n",
        "    lemma_text = []\n",
        "    for word in words:\n",
        "       lemma_text.append(wordlemmatizer.lemmatize(word))\n",
        "    return lemma_text\n",
        "\n",
        "def stemming(inputWords):\n",
        "    stem_text = []\n",
        "    for word in inputWords:\n",
        "       stem_text.append(stemmer.stem(word))\n",
        "    return stem_text\n",
        "\n",
        "def punctuation_omitter(word):\n",
        "    regExpression = r'[^a-zA-Z0-9\\s]'\n",
        "    word = re.sub(regExpression,'',word)\n",
        "    return word"
      ],
      "execution_count": 0,
      "outputs": []
    },
    {
      "cell_type": "code",
      "metadata": {
        "id": "PWkDCA-_6Tll",
        "colab_type": "code",
        "colab": {}
      },
      "source": [
        "# The function freq() is used to calculate the frequency of a word in the document\n",
        "def freq(IpText):\n",
        "    IpText = [word.lower() for word in IpText]\n",
        "    frequencyDictionary = {}\n",
        "    monoTexts = []\n",
        "    for word in IpText:\n",
        "       if word not in monoTexts:\n",
        "           monoTexts.append(word)\n",
        "    for word in monoTexts:\n",
        "       frequencyDictionary[word] = IpText.count(word)\n",
        "    return frequencyDictionary\n",
        "\n",
        "#The function tagger() is used to tag each word with it is corressponding POS tag. This function returns the noun phrases and verb phrases in the document\n",
        "def tagger(word):\n",
        "    tags = nltk.pos_tag(word.split())\n",
        "    NpVp_tagger = []\n",
        "    for word,tag in tags:\n",
        "        if tag == \"NNS\" or tag == \"NN\" or tag == \"NNP\" or tag == \"VBG\" or tag == \"VBN\" or tag == \"VB\" or tag == \"VBD\" or tag == \"VBZ\" or tag == \"VBP\":\n",
        "             NpVp_tagger.append(word)\n",
        "    return NpVp_tagger\n",
        "\n",
        "# The termFreqScore() function helps in finding the frequecy of the particular term.\n",
        "# It is calculated as the number of times the word appears in the sentence upon the total number of words in the sentence.\n",
        "def termFreqScore(text,sent):\n",
        "    sentWordFreq = 0\n",
        "    sentLen = len(sent)\n",
        "    for wrdsent in sent.split():\n",
        "        if text == wrdsent:\n",
        "            sentWordFreq = sentWordFreq + 1\n",
        "    termFreq =  sentWordFreq/ sentLen\n",
        "    return termFreq\n",
        "\n",
        "#inverseDocFreqScore() helps in calculating the IDF by dividing the total number of sentences by number of sentences containing the word and taking the logarithm.\n",
        "def inverseDocFreqScore(numSent,word,sents):\n",
        "    noSentWithWord = 0\n",
        "    for sentence in sents:\n",
        "        PuncOmitSent = punctuation_omitter(str(sentence))\n",
        "        CompiledSent = re.sub(r'\\d+', '', PuncOmitSent)\n",
        "        SplittedSent = CompiledSent.split()\n",
        "        Processedsentence = [word for word in SplittedSent if word.lower() not in Stopwords and len(word)>1]\n",
        "        Processedsentence = [word.lower() for word in Processedsentence]\n",
        "        Processedsentence = [wordlemmatizer.lemmatize(word) for word in Processedsentence]\n",
        "        if word in Processedsentence:\n",
        "            noSentWithWord = noSentWithWord + 1\n",
        "    invDocFreq = math.log10(numSent/noSentWithWord)\n",
        "    return invDocFreq\n",
        "\n",
        "# termFreqInvDocFreqscore() is the product of termFrequency and inverseDocumentFrequency\n",
        "def termFreqInvDocFreqscore(termFreq,invDocFreq):\n",
        "    return termFreq*invDocFreq\n",
        "\n",
        "def word_termFreqInvDocFreqscore(dict_freq,word,sentences,sentence):\n",
        "    word_tfidf = []\n",
        "    termFreq = termFreqScore(word,sentence)\n",
        "    inverseDocFreq = inverseDocFreqScore(len(sentences),word,sentences)\n",
        "    termfreqInvDocfreq = termFreqInvDocFreqscore(termFreq,inverseDocFreq)\n",
        "    return termfreqInvDocfreq\n",
        "\n",
        "#rank_sent() helps in calculating the sentence score. Based on this score the sentences with high rank the highest priority\n",
        "def rank_sent(sentence,frequencyDictionary,allSents):\n",
        "     ValScore = 0\n",
        "     sentence = punctuation_omitter(str(sentence)) \n",
        "     sentence = re.sub(r'\\d+', '', sentence)\n",
        "     POSTagSent = [] \n",
        "     no_of_sentences = len(allSents)\n",
        "     POSTagSent = tagger(sentence)\n",
        "     for word in POSTagSent:\n",
        "          if word.lower() not in Stopwords and word not in Stopwords and len(word)>1: \n",
        "                word = word.lower()\n",
        "                word = wordlemmatizer.lemmatize(word)\n",
        "                ValScore = ValScore + word_termFreqInvDocFreqscore(frequencyDictionary,word,allSents,sentence)\n",
        "     return ValScore"
      ],
      "execution_count": 0,
      "outputs": []
    },
    {
      "cell_type": "code",
      "metadata": {
        "id": "ybK1Niua0GUb",
        "colab_type": "code",
        "outputId": "616527ba-4ff9-4c9a-dd2b-ad7eea6104ae",
        "colab": {
          "base_uri": "https://localhost:8080/",
          "height": 82,
          "referenced_widgets": [
            "e40fb56c582a410987bf96b6afac6c5e",
            "e7cd0a07adc44d81b6b422e3e858c771",
            "37b696daf34a49078b9db9393ed610a6",
            "41dfd63928f04ce389aec24edc0ab6e9",
            "597508c77f224950b559f9794256687d",
            "7ddf70e501764a3d9c693bac8e1f9c74",
            "ae91018b8e824edb8385758901e57af5",
            "fb98d71b343343d6b20ac2afb3017096"
          ]
        }
      },
      "source": [
        "output_pd = pd.DataFrame()\n",
        "output_array = []\n",
        "percentValue = int(input('Enter the amount of detail that has to be retained in percentage :'))\n",
        "for text in tqdm(news_summary[\"ARTICLE\"]):\n",
        "  sent_tokens = sent_tokenize(text)\n",
        "  text = punctuation_omitter(str(text))\n",
        "  text = re.sub(r'\\d+', '', text)\n",
        "\n",
        "  stopwordsTokens = word_tokenize(text)\n",
        "  tokenized_words = [word for word in stopwordsTokens if word not in Stopwords]\n",
        "  tokenized_words = [word for word in tokenized_words if len(word) > 1]\n",
        "  tokenized_words = [word.lower() for word in tokenized_words]\n",
        "  tokenized_words = lemmatization(tokenized_words)\n",
        "  frequencyOfWord = freq(tokenized_words)\n",
        "\n",
        "  numSentences = int((percentValue * len(sent_tokens))/100)\n",
        "  constant = 1\n",
        "  impSent = {}\n",
        "  for sent in sent_tokens:\n",
        "    sentenceimp = rank_sent(sent,frequencyOfWord,sent_tokens)\n",
        "    impSent[constant] = sentenceimp\n",
        "    constant = constant+1\n",
        "  impSent = sorted(impSent.items(), key=operator.itemgetter(1),reverse=True)\n",
        "\n",
        "  count = 0\n",
        "  resultantText = []\n",
        "\n",
        "  numSent = []\n",
        "  for probOfWord in impSent:\n",
        "    if count < numSentences:\n",
        "      numSent.append(probOfWord[0])\n",
        "      count = count+1\n",
        "    else:\n",
        "      break\n",
        "  numSent.sort()\n",
        "  count = 1\n",
        "  for sentence in sent_tokens:\n",
        "    if count in numSent:\n",
        "      resultantText.append(sentence)\n",
        "    count = count+1\n",
        "  resultantText = \" \".join(resultantText)\n",
        "  output_array.append(resultantText)\n",
        "\n",
        "output_pd = pd.DataFrame()\n",
        "output_pd[\"OUR_SUMMARY\"] = output_array\n",
        "output_pd[\"ORIGINAL_SUMMARY\"] = news_summary[\"SUMMARY\"]"
      ],
      "execution_count": 0,
      "outputs": [
        {
          "output_type": "stream",
          "text": [
            "Enter the amount of detail that has to be retained in percentage :80\n"
          ],
          "name": "stdout"
        },
        {
          "output_type": "display_data",
          "data": {
            "application/vnd.jupyter.widget-view+json": {
              "model_id": "e40fb56c582a410987bf96b6afac6c5e",
              "version_minor": 0,
              "version_major": 2
            },
            "text/plain": [
              "HBox(children=(IntProgress(value=0, max=2225), HTML(value='')))"
            ]
          },
          "metadata": {
            "tags": []
          }
        },
        {
          "output_type": "stream",
          "text": [
            "\n"
          ],
          "name": "stdout"
        }
      ]
    },
    {
      "cell_type": "code",
      "metadata": {
        "id": "JN9dbL2_H_Zh",
        "colab_type": "code",
        "outputId": "a26ef30c-70be-408b-83de-1146ea02a2dc",
        "colab": {
          "base_uri": "https://localhost:8080/",
          "height": 601,
          "referenced_widgets": [
            "2e5ac89c2f5548a7a36389b4ef66af89",
            "e2fbe1ea0ced4adf82b469cf4334c29b",
            "186c9fc532e943b1b0ae099c949cbe83",
            "0be24c2faa264800950e26d1796dd136",
            "cb802d346938482eb69738db51edbb88",
            "3529fc83d26849168a85d185a859f43f",
            "a1bdcb04b1c54fe7a93629516b5bf6c3",
            "69a0f93874c0428cad749fb5b4bde4be"
          ]
        }
      },
      "source": [
        "runPerformanceMetric(output_pd)"
      ],
      "execution_count": 0,
      "outputs": [
        {
          "output_type": "display_data",
          "data": {
            "application/vnd.jupyter.widget-view+json": {
              "model_id": "2e5ac89c2f5548a7a36389b4ef66af89",
              "version_minor": 0,
              "version_major": 2
            },
            "text/plain": [
              "HBox(children=(IntProgress(value=0, max=2225), HTML(value='')))"
            ]
          },
          "metadata": {
            "tags": []
          }
        },
        {
          "output_type": "stream",
          "text": [
            "\n",
            "Mean values 0.6177233353569022 0.5418840719206243 0.6317264621267914\n"
          ],
          "name": "stdout"
        },
        {
          "output_type": "display_data",
          "data": {
            "image/png": "[encoded data removed]",
            "text/plain": [
              "<Figure size 432x288 with 1 Axes>"
            ]
          },
          "metadata": {
            "tags": []
          }
        },
        {
          "output_type": "display_data",
          "data": {
            "image/png": "[encoded data removed]",
            "text/plain": [
              "<Figure size 432x288 with 1 Axes>"
            ]
          },
          "metadata": {
            "tags": []
          }
        }
      ]
    },
    {
      "cell_type": "markdown",
      "metadata": {
        "id": "_k5oGOvh918a",
        "colab_type": "text"
      },
      "source": [
        "**Glove word embedding**\n",
        "\n",
        "Loading glove pre-trained model from **file_path+'glove.840B.300d.txt'**\n",
        "\n",
        "'glove.840B.300d.txt' can be downloaded from http://nlp.stanford.edu/data/glove.840B.300d.zip "
      ]
    },
    {
      "cell_type": "code",
      "metadata": {
        "id": "3PjMBUHC99wS",
        "colab_type": "code",
        "colab": {}
      },
      "source": [
        "def loadGlove(location):\n",
        "    embedding_model = {}\n",
        "    f = open(location, encoding=\"utf8\")\n",
        "    for line in f:\n",
        "        # print(line)\n",
        "        values = line.split()\n",
        "        # print(values)\n",
        "        word = ''.join(values[:-300])\n",
        "        # print(word)\n",
        "        word_vectors_300d = np.asarray(values[-300:], dtype='float32')\n",
        "        embedding_model[word] = word_vectors_300d\n",
        "    f.close()\n",
        "    return embedding_model"
      ],
      "execution_count": 0,
      "outputs": []
    },
    {
      "cell_type": "code",
      "metadata": {
        "id": "AaLhTTIX-Nth",
        "colab_type": "code",
        "colab": {}
      },
      "source": [
        "gloveFile = file_path+'glove.840B.300d.txt'\n",
        "model = loadGlove(gloveFile)\n"
      ],
      "execution_count": 0,
      "outputs": []
    },
    {
      "cell_type": "markdown",
      "metadata": {
        "id": "kGQQQpOLf5Yu",
        "colab_type": "text"
      },
      "source": [
        "**FastText word embedding**\n",
        "\n",
        "Load the pretrained model from **file_path+'wiki.en.bin'**\n",
        "\n",
        "'wiki.en.bin' can be downloaded from https://dl.fbaipublicfiles.com/fasttext/vectors-wiki/wiki.en.zip"
      ]
    },
    {
      "cell_type": "code",
      "metadata": {
        "id": "zE7KDST5f6fe",
        "colab_type": "code",
        "colab": {}
      },
      "source": [
        "from gensim.models.wrappers import FastText\n",
        "\n",
        "model = FastText.load_fasttext_format(file_path+'wiki.en.bin')"
      ],
      "execution_count": 0,
      "outputs": []
    },
    {
      "cell_type": "markdown",
      "metadata": {
        "id": "m4OTA2zZ-VcY",
        "colab_type": "text"
      },
      "source": [
        "**Smooth Inverse Frequency Calculation**\n"
      ]
    },
    {
      "cell_type": "code",
      "metadata": {
        "id": "vx1r-96D-PBg",
        "colab_type": "code",
        "colab": {}
      },
      "source": [
        "import re;\n",
        "def count_word_freq(document):\n",
        "    return Counter(itertools.chain(*document))\n",
        "\n",
        "def convert_sentence_to_vec(sent_list_tokenized, model, a = 1e-3):\n",
        "    try:\n",
        "        word_freq = count_word_freq(sent_list_tokenized)\n",
        "        sentence_vec=[]\n",
        "        for sentence in sent_list_tokenized:\n",
        "            vectors = np.zeros(300)\n",
        "            sent_length = len(sentence)\n",
        "            val=0\n",
        "            for word in sentence:\n",
        "                if re.match('\\w+',word):\n",
        "                    freq = word_freq[word]\n",
        "                    denominator = a + freq\n",
        "                    val += a / denominator # smooth inverse frequency, SIF\n",
        "            try:\n",
        "                vectors = np.add(vectors, np.multiply(val, model[word])) # vectors += sif * word_vector\n",
        "                vectors = np.dot( vectors, model[word])\n",
        "            except Exception as e:\n",
        "                pass\n",
        "            vectors = np.divide(vectors, sent_length) # weighted average\n",
        "            sentence_vec.append(vectors)\n",
        "    except Exception as e:\n",
        "           print(\"Exception in sentence embedding\")\n",
        "           print(e)\n",
        "    return sentence_vec"
      ],
      "execution_count": 0,
      "outputs": []
    },
    {
      "cell_type": "markdown",
      "metadata": {
        "id": "3GC4JLtN_mE6",
        "colab_type": "text"
      },
      "source": [
        "**Pre-processing**"
      ]
    },
    {
      "cell_type": "code",
      "metadata": {
        "id": "EH8r7JZk_rS8",
        "colab_type": "code",
        "colab": {}
      },
      "source": [
        "  \n",
        "lemmatizer = WordNetLemmatizer() \n",
        "def text_to_wordlist(text, remove_stopwords=False, stem_words=False, lemma = False):\n",
        "    # Clean the text, with the option to remove stopwords and to stem words.\n",
        "    \n",
        "    # Convert words to lower case and split them\n",
        "    text = text.lower().split()\n",
        "\n",
        "    # Optionally, remove stop words\n",
        "    if remove_stopwords:\n",
        "        stops = set(stopwords.words(\"english\"))\n",
        "        text = [w for w in text if not w in stops]\n",
        "    \n",
        "    text = \" \".join(text)\n",
        "   \n",
        "\n",
        "    # Optionally, shorten words to their stems\n",
        "    if stem_words:\n",
        "        text = text.split()\n",
        "        stemmer = SnowballStemmer('english')\n",
        "        stemmed_words = [stemmer.stem(word) for word in text]\n",
        "        text = \" \".join(stemmed_words)\n",
        "    \n",
        "    # Optionally, shorten words to their lemmas\n",
        "    if lemma:\n",
        "        text = text.split()\n",
        "        lemma_words = [lemmatizer.lemmatize(word) for word in text]\n",
        "        #print('lemmas'+str(lemma_words))\n",
        "        text = \" \".join(lemma_words)\n",
        "    #print(text)\n",
        "\n",
        "    # Return a list of words\n",
        "    return(text)"
      ],
      "execution_count": 0,
      "outputs": []
    },
    {
      "cell_type": "markdown",
      "metadata": {
        "id": "MVyjNay8_TrG",
        "colab_type": "text"
      },
      "source": [
        "**Load Data**"
      ]
    },
    {
      "cell_type": "code",
      "metadata": {
        "id": "vaY06IuS_JOI",
        "colab_type": "code",
        "colab": {}
      },
      "source": [
        "import scipy\n",
        "from scipy.sparse import csr_matrix\n",
        "output_pd = pd.DataFrame()\n",
        "output_array = []\n",
        "i=0\n",
        "for each_news_article in tqdm(news_summary[\"ARTICLE\"]):\n",
        "  \n",
        "  each_news_sentences = []\n",
        "  nlp = spacy.load('en')\n",
        "\n",
        "  tokens = nlp(each_news_article)\n",
        "  for sent in tokens.sents:\n",
        "      each_news_sentences.append(sent.string.strip())\n",
        "\n",
        "\n",
        "  sent_list=[]\n",
        "  for each_sent in each_news_sentences:\n",
        "      try:\n",
        "          sent_list.append(word_tokenize(text_to_wordlist(each_sent,False,False,False)))\n",
        "      except:\n",
        "        print(\"error\"+each_sent)\n",
        "  similarity_list=[]\n",
        "  sent_emb = convert_sentence_to_vec(sent_list,model)\n",
        "  all_sentence=[]\n",
        "  for word in (sent_emb):\n",
        "      current_sentence =[]\n",
        "      for w in sent_emb:\n",
        "          cosine = scipy.spatial.distance.cosine(word, w)\n",
        "          current_sentence.append(round((1-cosine),2))\n",
        "      all_sentence.append(current_sentence)\n",
        "\n",
        "  a = np.array(all_sentence, dtype='float32')\n",
        "  \n",
        "  similarityScore = csr_matrix(np.array(a))\n",
        "  rankedList=pagerank(similarityScore, p=0.85)\n",
        "  output_array.append(sortListOnSimilarity(each_news_sentences,rankedList))\n",
        "\n",
        "output_pd[\"OUR_SUMMARY\"] = output_array\n",
        "output_pd[\"ORIGINAL_SUMMARY\"] = news_summary[\"SUMMARY\"]\n",
        "\n",
        "\n",
        "sent_list=[]"
      ],
      "execution_count": 0,
      "outputs": []
    },
    {
      "cell_type": "code",
      "metadata": {
        "id": "y8WkCbqG61Mn",
        "colab_type": "code",
        "outputId": "04370138-53fe-413a-83eb-817f7dc95530",
        "colab": {
          "base_uri": "https://localhost:8080/",
          "height": 604,
          "referenced_widgets": [
            "6ce2491e9a7f4c06b6b7672cd3a0b7b6",
            "54c58ee4baa54a9da91cb8a7d4dc4ac3",
            "b9d21dc7dd634831a49cf8f1f801e190",
            "0d4dceab82784398b9c99d02e101fade",
            "0c0703a5bfa5479e9c1a2c55da4fe757",
            "586753975c4941819aa609d76dd03648",
            "7af7a98de6a541fc82bf614dbfbcef17",
            "04f47760382041e88b3343799703d30b"
          ]
        }
      },
      "source": [
        "runPerformanceMetric(output_pd)"
      ],
      "execution_count": 0,
      "outputs": [
        {
          "output_type": "display_data",
          "data": {
            "application/vnd.jupyter.widget-view+json": {
              "model_id": "6ce2491e9a7f4c06b6b7672cd3a0b7b6",
              "version_minor": 0,
              "version_major": 2
            },
            "text/plain": [
              "HBox(children=(IntProgress(value=0, max=2225), HTML(value='')))"
            ]
          },
          "metadata": {
            "tags": []
          }
        },
        {
          "output_type": "stream",
          "text": [
            "\n",
            "Mean values 0.576963992427098 0.45215296415041684 0.5648131582051903\n"
          ],
          "name": "stdout"
        },
        {
          "output_type": "display_data",
          "data": {
            "image/png": "[encoded data removed]",
            "text/plain": [
              "<Figure size 432x288 with 1 Axes>"
            ]
          },
          "metadata": {
            "tags": [],
            "needs_background": "light"
          }
        },
        {
          "output_type": "display_data",
          "data": {
            "image/png": "[encoded data removed]",
            "text/plain": [
              "<Figure size 432x288 with 1 Axes>"
            ]
          },
          "metadata": {
            "tags": []
          }
        }
      ]
    },
    {
      "cell_type": "markdown",
      "metadata": {
        "id": "h2qDweezxe3e",
        "colab_type": "text"
      },
      "source": [
        "**Performance of Skip-Thought vectors**"
      ]
    },
    {
      "cell_type": "code",
      "metadata": {
        "id": "dkVXpFOvAuHA",
        "colab_type": "code",
        "colab": {}
      },
      "source": [
        "# file_path = '/content/drive/My Drive/NLP_DATA/'\n",
        "out_summary = pd.read_csv(file_path + 'skipThoughtOutput.csv' , encoding='ISO-8859-1')\n",
        "output_pd = pd.DataFrame()\n",
        "output_pd[\"OUR_SUMMARY\"] = out_summary[\"OUR_SUMMARY\"]\n",
        "output_pd[\"ORIGINAL_SUMMARY\"] = news_summary[\"SUMMARY\"]"
      ],
      "execution_count": 0,
      "outputs": []
    },
    {
      "cell_type": "code",
      "metadata": {
        "id": "RzSo-983TlWP",
        "colab_type": "code",
        "outputId": "da3c63df-5572-4bc9-c310-e896ebcc0a39",
        "colab": {
          "base_uri": "https://localhost:8080/",
          "height": 604,
          "referenced_widgets": [
            "11ac5e774e41460b905ab2587651d539",
            "e263d0fc4c2d474d94839f2038096e4f",
            "4fa79ed69b1644cab363ff7b0bc91b1a",
            "a42c77bb35ac4cf3893f13daa9512f10",
            "abf483cac18248b986ddc912888a62c3",
            "74627ee2d6cd4cff9c72c2d1b350be7b",
            "b7289b6de51c438aa305fadf069e56c1",
            "0c805e1376a94cc69309f9d7ebff2484"
          ]
        }
      },
      "source": [
        "runPerformanceMetric(output_pd)"
      ],
      "execution_count": 0,
      "outputs": [
        {
          "output_type": "display_data",
          "data": {
            "application/vnd.jupyter.widget-view+json": {
              "model_id": "11ac5e774e41460b905ab2587651d539",
              "version_minor": 0,
              "version_major": 2
            },
            "text/plain": [
              "HBox(children=(IntProgress(value=0, max=2225), HTML(value='')))"
            ]
          },
          "metadata": {
            "tags": []
          }
        },
        {
          "output_type": "stream",
          "text": [
            "\n",
            "Mean values 0.5539111948860177 0.41536524938075065 0.5390562549937548\n"
          ],
          "name": "stdout"
        },
        {
          "output_type": "display_data",
          "data": {
            "image/png": "[encoded data removed]",
            "text/plain": [
              "<Figure size 432x288 with 1 Axes>"
            ]
          },
          "metadata": {
            "tags": []
          }
        },
        {
          "output_type": "display_data",
          "data": {
            "image/png": "[encoded data removed]",
            "text/plain": [
              "<Figure size 432x288 with 1 Axes>"
            ]
          },
          "metadata": {
            "tags": []
          }
        }
      ]
    }
  ]
}